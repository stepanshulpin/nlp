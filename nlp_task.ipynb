{
  "nbformat": 4,
  "nbformat_minor": 0,
  "metadata": {
    "colab": {
      "name": "nlp_task.ipynb",
      "provenance": [],
      "collapsed_sections": [],
      "authorship_tag": "ABX9TyOtwE8hXpfcAw+LoPrSaGkk",
      "include_colab_link": true
    },
    "kernelspec": {
      "name": "python3",
      "display_name": "Python 3"
    },
    "accelerator": "GPU"
  },
  "cells": [
    {
      "cell_type": "markdown",
      "metadata": {
        "id": "view-in-github",
        "colab_type": "text"
      },
      "source": [
        "<a href=\"https://colab.research.google.com/github/stepanshulpin/nlp/blob/master/nlp_task.ipynb\" target=\"_parent\"><img src=\"https://colab.research.google.com/assets/colab-badge.svg\" alt=\"Open In Colab\"/></a>"
      ]
    },
    {
      "cell_type": "markdown",
      "metadata": {
        "id": "lBlskVtTxJkD",
        "colab_type": "text"
      },
      "source": [
        "**Задача https://pan.webis.de/clef14/pan14-web/author-profiling.html  \n",
        "Определение пола и возраста автора**"
      ]
    },
    {
      "cell_type": "markdown",
      "metadata": {
        "id": "RhM3Pamfxn2A",
        "colab_type": "text"
      },
      "source": [
        "Загрузка и перепаковка данных"
      ]
    },
    {
      "cell_type": "code",
      "metadata": {
        "id": "pZufNUDiCvBv",
        "colab_type": "code",
        "colab": {}
      },
      "source": [
        "!wget https://www.uni-weimar.de/medien/webis/corpora/corpus-pan-labs-09-today/pan-14/pan14-data/pan14-author-profiling-training-corpus-2014-04-16.zip\n",
        "!unzip pan14-author-profiling-training-corpus-2014-04-16.zip\n",
        "!mkdir data\n",
        "\n",
        "!unzip pan14-author-profiling-training-corpus-2014-04-16/pan14-author-profiling-training-corpus-english-blogs-2014-04-16.zip\n",
        "!rm pan14-author-profiling-training-corpus-2014-04-16/pan14-author-profiling-training-corpus-english-blogs-2014-04-16.zip\n",
        "!mv mnt/nfs/tira/data/pan14-training-corpora-truth/pan14-author-profiling-training-corpus-english-blogs-2014-04-16 data/pan_english_blogs\n",
        "\n",
        "!unzip pan14-author-profiling-training-corpus-2014-04-16/pan14-author-profiling-training-corpus-english-reviews-2014-04-16.zip\n",
        "!rm pan14-author-profiling-training-corpus-2014-04-16/pan14-author-profiling-training-corpus-english-reviews-2014-04-16.zip\n",
        "!mv mnt/nfs/tira/data/pan14-training-corpora-truth/pan14-author-profiling-training-corpus-english-reviews-2014-04-16 data/pan_english_reviews\n",
        "\n",
        "!unzip pan14-author-profiling-training-corpus-2014-04-16/pan14-author-profiling-training-corpus-english-socialmedia-2014-04-16.zip\n",
        "!rm pan14-author-profiling-training-corpus-2014-04-16/pan14-author-profiling-training-corpus-english-socialmedia-2014-04-16.zip\n",
        "!mv mnt/nfs/tira/data/pan14-training-corpora-truth/pan14-author-profiling-training-corpus-english-socialmedia-2014-04-16 data/pan_english_socialmedia\n",
        "\n",
        "!rm pan14-author-profiling-training-corpus-2014-04-16.zip\n",
        "\n",
        "!wget https://s3.amazonaws.com/autoritas.pan/pan-AP14-test-2014-05-26.zip\n",
        "!unzip pan-AP14-test-2014-05-26.zip\n",
        "!mkdir test\n",
        "\n",
        "!mv pan-AP14-test-2014-05-26/blogs/en test/pan_english_blogs\n",
        "!mv pan-AP14-test-2014-05-26/reviews/en test/pan_english_reviews\n",
        "!mv pan-AP14-test-2014-05-26/socialmedia/en test/pan_english_socialmedia\n",
        "\n",
        "!mv pan-AP14-test-2014-05-26/blogs/en.txt test/pan_english_blogs/truth.txt\n",
        "!mv pan-AP14-test-2014-05-26/reviews/en.txt test/pan_english_reviews/truth.txt\n",
        "!mv pan-AP14-test-2014-05-26/socialmedia/en.txt test/pan_english_socialmedia/truth.txt\n",
        "\n",
        "!rm pan-AP14-test-2014-05-26.zip"
      ],
      "execution_count": 0,
      "outputs": []
    },
    {
      "cell_type": "code",
      "metadata": {
        "id": "4J1hA7CLC7Od",
        "colab_type": "code",
        "outputId": "49b66d76-3f2c-40af-c8c0-3a8afae4c904",
        "colab": {
          "base_uri": "https://localhost:8080/",
          "height": 34
        }
      },
      "source": [
        "!ls test"
      ],
      "execution_count": 2,
      "outputs": [
        {
          "output_type": "stream",
          "text": [
            "pan_english_blogs  pan_english_reviews\tpan_english_socialmedia\n"
          ],
          "name": "stdout"
        }
      ]
    },
    {
      "cell_type": "code",
      "metadata": {
        "id": "oqlJRed7E7jF",
        "colab_type": "code",
        "colab": {}
      },
      "source": [
        "import os\n",
        "from xml.dom import minidom\n",
        "import pandas as pd\n",
        "import re\n",
        "from sklearn.feature_extraction.text import CountVectorizer,TfidfTransformer\n",
        "from sklearn.base import TransformerMixin\n",
        "from sklearn.pipeline import Pipeline\n",
        "from sklearn.linear_model import LogisticRegression, SGDClassifier\n",
        "from sklearn.ensemble import GradientBoostingClassifier\n",
        "from sklearn import metrics\n",
        "\n",
        "import string\n",
        "from spacy.lang.en.stop_words import STOP_WORDS\n",
        "from spacy.lang.en import English"
      ],
      "execution_count": 0,
      "outputs": []
    },
    {
      "cell_type": "markdown",
      "metadata": {
        "id": "X9bE5rHlxyzP",
        "colab_type": "text"
      },
      "source": [
        "Парсинг xml, очистка текста от тегов"
      ]
    },
    {
      "cell_type": "code",
      "metadata": {
        "id": "gKPIWQpntbBf",
        "colab_type": "code",
        "colab": {}
      },
      "source": [
        "def getTexts(directory, authorFileName, textsCount):\n",
        "    file = directory+\"/\"+authorFileName\n",
        "    xmldoc = minidom.parse(file)\n",
        "    rawdocuments = xmldoc.getElementsByTagName('document')\n",
        "    ner_length = 0\n",
        "    vocabulary = list()\n",
        "    for document in rawdocuments:\n",
        "        rawText = removeTag_CDATA_section(document.firstChild.nodeValue.strip())\n",
        "        vocabulary.append(rawText)\n",
        "        textsCount = textsCount + 1\n",
        "    return vocabulary, textsCount\n",
        "\n",
        "def Merge(dict1, dict2): \n",
        "    res = {**dict1, **dict2} \n",
        "    return res\n",
        "\n",
        "def removeTag_CDATA_section(text):\n",
        "    processedText = re.sub(r'<[^>]*>','',text,0)\n",
        "    processedText = re.sub(r'&amp;','&',processedText,0)\n",
        "    processedText = re.sub(r'&ldquo;','\"',processedText,0)\n",
        "    processedText = re.sub(r'&rdquo;','\"',processedText,0)\n",
        "    processedText = re.sub(r'&rsquo;',\"'\",processedText,0)\n",
        "    processedText = re.sub(r'&nbsp;','',processedText,0)\n",
        "    return processedText\n",
        "\n",
        "def getAuthorInfo(truth_file):\n",
        "    ifile = open(truth_file)\n",
        "    truth_data = ifile.readlines()\n",
        "    author_info = {}\n",
        "    for line in truth_data:\n",
        "        element = line.strip().split(\":::\")\n",
        "        author_info[element[0]] = [element[1],element[2]]\n",
        "    ifile.close()\n",
        "    return author_info\n",
        "\n",
        "\n",
        "def getAuthorTexts(directory, authorFileNames, author, textsCount):\n",
        "    for file in authorFileNames:\n",
        "      if file.endswith(\".xml\"):        \n",
        "        key = file.split('.')[0]\n",
        "        author[key], textsCount = getTexts(directory, file, textsCount)\n",
        "    return author, textsCount\n",
        "\n",
        "def getTestAuthorTexts(directory, authorFileNames, author, textsCount):\n",
        "    for file in authorFileNames:\n",
        "      if file.endswith(\".xml\"):\n",
        "        key = file.replace('_en_xx_xx.xml','')\n",
        "        author[key], textsCount = getTexts(directory, file, textsCount)\n",
        "    return author, textsCount"
      ],
      "execution_count": 0,
      "outputs": []
    },
    {
      "cell_type": "markdown",
      "metadata": {
        "id": "Q6Sv2mX_x-w1",
        "colab_type": "text"
      },
      "source": [
        "Загрузка тренировочной выборки в DataFrame"
      ]
    },
    {
      "cell_type": "code",
      "metadata": {
        "id": "miwUR62idfLm",
        "colab_type": "code",
        "outputId": "7d7d060c-0b38-46a4-d5d3-0bb27e55ef4d",
        "colab": {
          "base_uri": "https://localhost:8080/",
          "height": 1000
        }
      },
      "source": [
        "directory_blogs = 'data/pan_english_blogs'\n",
        "truth_file_blogs = 'data/pan_english_blogs/truth.txt'\n",
        "\n",
        "directory_reviews = 'data/pan_english_reviews'\n",
        "truth_file_reviews = 'data/pan_english_reviews/truth.txt'\n",
        "\n",
        "directory_socialmedia = 'data/pan_english_socialmedia'\n",
        "truth_file_socialmedia = 'data/pan_english_socialmedia/truth.txt'\n",
        "\n",
        "textsCount = 0\n",
        "\n",
        "author = {}\n",
        "author_info = Merge(Merge(getAuthorInfo(truth_file_blogs), getAuthorInfo(truth_file_reviews)), getAuthorInfo(truth_file_socialmedia))\n",
        "#author_info = getAuthorInfo(truth_file_socialmedia)\n",
        "\n",
        "author, textsCount = getAuthorTexts(directory_blogs, os.listdir(directory_blogs), author, textsCount)\n",
        "author, textsCount = getAuthorTexts(directory_reviews, os.listdir(directory_reviews), author, textsCount)\n",
        "author, textsCount = getAuthorTexts(directory_socialmedia, os.listdir(directory_socialmedia), author, textsCount)\n",
        "\n",
        "train = pd.DataFrame(data=0,columns = [\"Gender\",\"Age\",'Text','AuthorId'], index=range(textsCount))\n",
        "\n",
        "index = 0\n",
        "\n",
        "for authorId, texts in author.items():\n",
        "  author_frame = list()\n",
        "  start = index\n",
        "  for text in texts:\n",
        "    author_frame.append([author_info[authorId][0], author_info[authorId][1], text, authorId])\n",
        "    index = index + 1\n",
        "    if index % 1000 == 0:\n",
        "      print('{}/{}'.format(index, textsCount))\n",
        "  end = index - 1\n",
        "  train.loc[start:end] = author_frame\n",
        "train.fillna(0)\n",
        "train.describe()\n",
        "train.head()"
      ],
      "execution_count": 5,
      "outputs": [
        {
          "output_type": "stream",
          "text": [
            "1000/154573\n",
            "2000/154573\n",
            "3000/154573\n",
            "4000/154573\n",
            "5000/154573\n",
            "6000/154573\n",
            "7000/154573\n",
            "8000/154573\n",
            "9000/154573\n",
            "10000/154573\n",
            "11000/154573\n",
            "12000/154573\n",
            "13000/154573\n",
            "14000/154573\n",
            "15000/154573\n",
            "16000/154573\n",
            "17000/154573\n",
            "18000/154573\n",
            "19000/154573\n",
            "20000/154573\n",
            "21000/154573\n",
            "22000/154573\n",
            "23000/154573\n",
            "24000/154573\n",
            "25000/154573\n",
            "26000/154573\n",
            "27000/154573\n",
            "28000/154573\n",
            "29000/154573\n",
            "30000/154573\n",
            "31000/154573\n",
            "32000/154573\n",
            "33000/154573\n",
            "34000/154573\n",
            "35000/154573\n",
            "36000/154573\n",
            "37000/154573\n",
            "38000/154573\n",
            "39000/154573\n",
            "40000/154573\n",
            "41000/154573\n",
            "42000/154573\n",
            "43000/154573\n",
            "44000/154573\n",
            "45000/154573\n",
            "46000/154573\n",
            "47000/154573\n",
            "48000/154573\n",
            "49000/154573\n",
            "50000/154573\n",
            "51000/154573\n",
            "52000/154573\n",
            "53000/154573\n",
            "54000/154573\n",
            "55000/154573\n",
            "56000/154573\n",
            "57000/154573\n",
            "58000/154573\n",
            "59000/154573\n",
            "60000/154573\n",
            "61000/154573\n",
            "62000/154573\n",
            "63000/154573\n",
            "64000/154573\n",
            "65000/154573\n",
            "66000/154573\n",
            "67000/154573\n",
            "68000/154573\n",
            "69000/154573\n",
            "70000/154573\n",
            "71000/154573\n",
            "72000/154573\n",
            "73000/154573\n",
            "74000/154573\n",
            "75000/154573\n",
            "76000/154573\n",
            "77000/154573\n",
            "78000/154573\n",
            "79000/154573\n",
            "80000/154573\n",
            "81000/154573\n",
            "82000/154573\n",
            "83000/154573\n",
            "84000/154573\n",
            "85000/154573\n",
            "86000/154573\n",
            "87000/154573\n",
            "88000/154573\n",
            "89000/154573\n",
            "90000/154573\n",
            "91000/154573\n",
            "92000/154573\n",
            "93000/154573\n",
            "94000/154573\n",
            "95000/154573\n",
            "96000/154573\n",
            "97000/154573\n",
            "98000/154573\n",
            "99000/154573\n",
            "100000/154573\n",
            "101000/154573\n",
            "102000/154573\n",
            "103000/154573\n",
            "104000/154573\n",
            "105000/154573\n",
            "106000/154573\n",
            "107000/154573\n",
            "108000/154573\n",
            "109000/154573\n",
            "110000/154573\n",
            "111000/154573\n",
            "112000/154573\n",
            "113000/154573\n",
            "114000/154573\n",
            "115000/154573\n",
            "116000/154573\n",
            "117000/154573\n",
            "118000/154573\n",
            "119000/154573\n",
            "120000/154573\n",
            "121000/154573\n",
            "122000/154573\n",
            "123000/154573\n",
            "124000/154573\n",
            "125000/154573\n",
            "126000/154573\n",
            "127000/154573\n",
            "128000/154573\n",
            "129000/154573\n",
            "130000/154573\n",
            "131000/154573\n",
            "132000/154573\n",
            "133000/154573\n",
            "134000/154573\n",
            "135000/154573\n",
            "136000/154573\n",
            "137000/154573\n",
            "138000/154573\n",
            "139000/154573\n",
            "140000/154573\n",
            "141000/154573\n",
            "142000/154573\n",
            "143000/154573\n",
            "144000/154573\n",
            "145000/154573\n",
            "146000/154573\n",
            "147000/154573\n",
            "148000/154573\n",
            "149000/154573\n",
            "150000/154573\n",
            "151000/154573\n",
            "152000/154573\n",
            "153000/154573\n",
            "154000/154573\n"
          ],
          "name": "stdout"
        },
        {
          "output_type": "execute_result",
          "data": {
            "text/html": [
              "<div>\n",
              "<style scoped>\n",
              "    .dataframe tbody tr th:only-of-type {\n",
              "        vertical-align: middle;\n",
              "    }\n",
              "\n",
              "    .dataframe tbody tr th {\n",
              "        vertical-align: top;\n",
              "    }\n",
              "\n",
              "    .dataframe thead th {\n",
              "        text-align: right;\n",
              "    }\n",
              "</style>\n",
              "<table border=\"1\" class=\"dataframe\">\n",
              "  <thead>\n",
              "    <tr style=\"text-align: right;\">\n",
              "      <th></th>\n",
              "      <th>Gender</th>\n",
              "      <th>Age</th>\n",
              "      <th>Text</th>\n",
              "      <th>AuthorId</th>\n",
              "    </tr>\n",
              "  </thead>\n",
              "  <tbody>\n",
              "    <tr>\n",
              "      <th>0</th>\n",
              "      <td>FEMALE</td>\n",
              "      <td>35-49</td>\n",
              "      <td>It had to end. Just like we&amp;#8217;ve all exper...</td>\n",
              "      <td>0a485d9bc555d607f43264a186fb2396</td>\n",
              "    </tr>\n",
              "    <tr>\n",
              "      <th>1</th>\n",
              "      <td>FEMALE</td>\n",
              "      <td>35-49</td>\n",
              "      <td>How do you meet people? Believe&amp;#8230;Feast&amp;#8...</td>\n",
              "      <td>0a485d9bc555d607f43264a186fb2396</td>\n",
              "    </tr>\n",
              "    <tr>\n",
              "      <th>2</th>\n",
              "      <td>FEMALE</td>\n",
              "      <td>35-49</td>\n",
              "      <td>It&amp;#8217;s true: Marketing your book is hard w...</td>\n",
              "      <td>0a485d9bc555d607f43264a186fb2396</td>\n",
              "    </tr>\n",
              "    <tr>\n",
              "      <th>3</th>\n",
              "      <td>FEMALE</td>\n",
              "      <td>35-49</td>\n",
              "      <td>This is mine. One of the challenges most reluc...</td>\n",
              "      <td>0a485d9bc555d607f43264a186fb2396</td>\n",
              "    </tr>\n",
              "    <tr>\n",
              "      <th>4</th>\n",
              "      <td>FEMALE</td>\n",
              "      <td>35-49</td>\n",
              "      <td>But first, let&amp;#8217;s talk about your vision ...</td>\n",
              "      <td>0a485d9bc555d607f43264a186fb2396</td>\n",
              "    </tr>\n",
              "  </tbody>\n",
              "</table>\n",
              "</div>"
            ],
            "text/plain": [
              "   Gender  ...                          AuthorId\n",
              "0  FEMALE  ...  0a485d9bc555d607f43264a186fb2396\n",
              "1  FEMALE  ...  0a485d9bc555d607f43264a186fb2396\n",
              "2  FEMALE  ...  0a485d9bc555d607f43264a186fb2396\n",
              "3  FEMALE  ...  0a485d9bc555d607f43264a186fb2396\n",
              "4  FEMALE  ...  0a485d9bc555d607f43264a186fb2396\n",
              "\n",
              "[5 rows x 4 columns]"
            ]
          },
          "metadata": {
            "tags": []
          },
          "execution_count": 5
        }
      ]
    },
    {
      "cell_type": "markdown",
      "metadata": {
        "id": "dCheZ2VmyG6F",
        "colab_type": "text"
      },
      "source": [
        "Загрузка тестовой выборки в DataFrame"
      ]
    },
    {
      "cell_type": "code",
      "metadata": {
        "id": "YjwQo7ttvgJ1",
        "colab_type": "code",
        "colab": {
          "base_uri": "https://localhost:8080/",
          "height": 1000
        },
        "outputId": "0481ac0d-5a82-4d8c-f339-9c238e150319"
      },
      "source": [
        "directory_blogs = 'test/pan_english_blogs'\n",
        "truth_file_blogs = 'test/pan_english_blogs/truth.txt'\n",
        "\n",
        "directory_reviews = 'test/pan_english_reviews'\n",
        "truth_file_reviews = 'test/pan_english_reviews/truth.txt'\n",
        "\n",
        "directory_socialmedia = 'test/pan_english_socialmedia'\n",
        "truth_file_socialmedia = 'test/pan_english_socialmedia/truth.txt'\n",
        "\n",
        "textsCount = 0\n",
        "\n",
        "author = {}\n",
        "author_info = Merge(Merge(getAuthorInfo(truth_file_blogs), getAuthorInfo(truth_file_reviews)), getAuthorInfo(truth_file_socialmedia))\n",
        "#author_info = getAuthorInfo(truth_file_socialmedia)\n",
        "\n",
        "author, textsCount = getTestAuthorTexts(directory_blogs, os.listdir(directory_blogs), author, textsCount)\n",
        "author, textsCount = getTestAuthorTexts(directory_reviews, os.listdir(directory_reviews), author, textsCount)\n",
        "author, textsCount = getTestAuthorTexts(directory_socialmedia, os.listdir(directory_socialmedia), author, textsCount)\n",
        "\n",
        "test = pd.DataFrame(data=0,columns = [\"Gender\",\"Age\",'Text','AuthorId'], index=range(textsCount))\n",
        "\n",
        "index = 0\n",
        "\n",
        "for authorId, texts in author.items():\n",
        "  author_frame = list()\n",
        "  start = index\n",
        "  for text in texts:\n",
        "    author_frame.append([author_info[authorId][0], author_info[authorId][1], text, authorId])\n",
        "    index = index + 1\n",
        "    if index % 1000 == 0:\n",
        "      print('{}/{}'.format(index, textsCount))\n",
        "  end = index - 1\n",
        "  test.loc[start:end] = author_frame\n",
        "test.fillna(0)\n",
        "test.describe()\n",
        "test.head()"
      ],
      "execution_count": 6,
      "outputs": [
        {
          "output_type": "stream",
          "text": [
            "1000/84189\n",
            "2000/84189\n",
            "3000/84189\n",
            "4000/84189\n",
            "5000/84189\n",
            "6000/84189\n",
            "7000/84189\n",
            "8000/84189\n",
            "9000/84189\n",
            "10000/84189\n",
            "11000/84189\n",
            "12000/84189\n",
            "13000/84189\n",
            "14000/84189\n",
            "15000/84189\n",
            "16000/84189\n",
            "17000/84189\n",
            "18000/84189\n",
            "19000/84189\n",
            "20000/84189\n",
            "21000/84189\n",
            "22000/84189\n",
            "23000/84189\n",
            "24000/84189\n",
            "25000/84189\n",
            "26000/84189\n",
            "27000/84189\n",
            "28000/84189\n",
            "29000/84189\n",
            "30000/84189\n",
            "31000/84189\n",
            "32000/84189\n",
            "33000/84189\n",
            "34000/84189\n",
            "35000/84189\n",
            "36000/84189\n",
            "37000/84189\n",
            "38000/84189\n",
            "39000/84189\n",
            "40000/84189\n",
            "41000/84189\n",
            "42000/84189\n",
            "43000/84189\n",
            "44000/84189\n",
            "45000/84189\n",
            "46000/84189\n",
            "47000/84189\n",
            "48000/84189\n",
            "49000/84189\n",
            "50000/84189\n",
            "51000/84189\n",
            "52000/84189\n",
            "53000/84189\n",
            "54000/84189\n",
            "55000/84189\n",
            "56000/84189\n",
            "57000/84189\n",
            "58000/84189\n",
            "59000/84189\n",
            "60000/84189\n",
            "61000/84189\n",
            "62000/84189\n",
            "63000/84189\n",
            "64000/84189\n",
            "65000/84189\n",
            "66000/84189\n",
            "67000/84189\n",
            "68000/84189\n",
            "69000/84189\n",
            "70000/84189\n",
            "71000/84189\n",
            "72000/84189\n",
            "73000/84189\n",
            "74000/84189\n",
            "75000/84189\n",
            "76000/84189\n",
            "77000/84189\n",
            "78000/84189\n",
            "79000/84189\n",
            "80000/84189\n",
            "81000/84189\n",
            "82000/84189\n",
            "83000/84189\n",
            "84000/84189\n"
          ],
          "name": "stdout"
        },
        {
          "output_type": "execute_result",
          "data": {
            "text/html": [
              "<div>\n",
              "<style scoped>\n",
              "    .dataframe tbody tr th:only-of-type {\n",
              "        vertical-align: middle;\n",
              "    }\n",
              "\n",
              "    .dataframe tbody tr th {\n",
              "        vertical-align: top;\n",
              "    }\n",
              "\n",
              "    .dataframe thead th {\n",
              "        text-align: right;\n",
              "    }\n",
              "</style>\n",
              "<table border=\"1\" class=\"dataframe\">\n",
              "  <thead>\n",
              "    <tr style=\"text-align: right;\">\n",
              "      <th></th>\n",
              "      <th>Gender</th>\n",
              "      <th>Age</th>\n",
              "      <th>Text</th>\n",
              "      <th>AuthorId</th>\n",
              "    </tr>\n",
              "  </thead>\n",
              "  <tbody>\n",
              "    <tr>\n",
              "      <th>0</th>\n",
              "      <td>FEMALE</td>\n",
              "      <td>35-49</td>\n",
              "      <td>Need a cover letter? Now you can read &amp;#8211; ...</td>\n",
              "      <td>4feed6faa3678318479ef2531c8bee70</td>\n",
              "    </tr>\n",
              "    <tr>\n",
              "      <th>1</th>\n",
              "      <td>FEMALE</td>\n",
              "      <td>35-49</td>\n",
              "      <td>Don&amp;#8217;t be. You can&amp;#8217;t grab the brass...</td>\n",
              "      <td>4feed6faa3678318479ef2531c8bee70</td>\n",
              "    </tr>\n",
              "    <tr>\n",
              "      <th>2</th>\n",
              "      <td>FEMALE</td>\n",
              "      <td>35-49</td>\n",
              "      <td>After the interview, it’s time to hand-write a...</td>\n",
              "      <td>4feed6faa3678318479ef2531c8bee70</td>\n",
              "    </tr>\n",
              "    <tr>\n",
              "      <th>3</th>\n",
              "      <td>FEMALE</td>\n",
              "      <td>35-49</td>\n",
              "      <td>There it is! The perfect job. The one you hope...</td>\n",
              "      <td>4feed6faa3678318479ef2531c8bee70</td>\n",
              "    </tr>\n",
              "    <tr>\n",
              "      <th>4</th>\n",
              "      <td>FEMALE</td>\n",
              "      <td>35-49</td>\n",
              "      <td>How do you meet people? Believe&amp;#8230;Feast&amp;#8...</td>\n",
              "      <td>4feed6faa3678318479ef2531c8bee70</td>\n",
              "    </tr>\n",
              "  </tbody>\n",
              "</table>\n",
              "</div>"
            ],
            "text/plain": [
              "   Gender  ...                          AuthorId\n",
              "0  FEMALE  ...  4feed6faa3678318479ef2531c8bee70\n",
              "1  FEMALE  ...  4feed6faa3678318479ef2531c8bee70\n",
              "2  FEMALE  ...  4feed6faa3678318479ef2531c8bee70\n",
              "3  FEMALE  ...  4feed6faa3678318479ef2531c8bee70\n",
              "4  FEMALE  ...  4feed6faa3678318479ef2531c8bee70\n",
              "\n",
              "[5 rows x 4 columns]"
            ]
          },
          "metadata": {
            "tags": []
          },
          "execution_count": 6
        }
      ]
    },
    {
      "cell_type": "markdown",
      "metadata": {
        "id": "9G32LURxyh0k",
        "colab_type": "text"
      },
      "source": [
        "Токенизация используя spacy"
      ]
    },
    {
      "cell_type": "code",
      "metadata": {
        "id": "JyezFlkRgOev",
        "colab_type": "code",
        "colab": {}
      },
      "source": [
        "punctuations = string.punctuation\n",
        "\n",
        "nlp = English()\n",
        "stop_words = STOP_WORDS\n",
        "\n",
        "parser = English()\n",
        "\n",
        "def spacy_tokenizer(sentence):\n",
        "    mytokens = parser(sentence)\n",
        "    # Lemmatization - rip words to their lemma equivalent\n",
        "    mytokens = [ word.lemma_.lower().strip() if word.lemma_ != \"-PRON-\" else word.lower_ for word in mytokens ]\n",
        "    # Rip out the stop words and punctuations\n",
        "    mytokens = [ word for word in mytokens if word not in stop_words and word not in punctuations ]\n",
        "    return mytokens"
      ],
      "execution_count": 0,
      "outputs": []
    },
    {
      "cell_type": "code",
      "metadata": {
        "id": "FRS7tXPgN5AD",
        "colab_type": "code",
        "colab": {}
      },
      "source": [
        "class TextPreprocessor(TransformerMixin):\n",
        "    def transform(self, X, **transform_params):\n",
        "        return [clean_text(text) for text in X]\n",
        "\n",
        "    def fit(self, X, y=None, **fit_params):\n",
        "        return self\n",
        "\n",
        "    def get_params(self, deep=True):\n",
        "        return {}\n",
        "\n",
        "def clean_text(text):\n",
        "    return text.strip().lower()"
      ],
      "execution_count": 0,
      "outputs": []
    },
    {
      "cell_type": "code",
      "metadata": {
        "id": "gOL3F4AMOrW7",
        "colab_type": "code",
        "colab": {}
      },
      "source": [
        "train['Gender'].replace(['FEMALE','MALE'], [0,1], inplace=True)\n",
        "test['Gender'].replace(['FEMALE','MALE'], [0,1], inplace=True)"
      ],
      "execution_count": 0,
      "outputs": []
    },
    {
      "cell_type": "code",
      "metadata": {
        "id": "5h5CRE46Ov9h",
        "colab_type": "code",
        "colab": {
          "base_uri": "https://localhost:8080/",
          "height": 163
        },
        "outputId": "23e01d6e-7170-4fc9-d123-a1d0b4062963"
      },
      "source": [
        "test.head()"
      ],
      "execution_count": 2,
      "outputs": [
        {
          "output_type": "error",
          "ename": "NameError",
          "evalue": "ignored",
          "traceback": [
            "\u001b[0;31m---------------------------------------------------------------------------\u001b[0m",
            "\u001b[0;31mNameError\u001b[0m                                 Traceback (most recent call last)",
            "\u001b[0;32m<ipython-input-2-ca7e793253ef>\u001b[0m in \u001b[0;36m<module>\u001b[0;34m()\u001b[0m\n\u001b[0;32m----> 1\u001b[0;31m \u001b[0mtest\u001b[0m\u001b[0;34m.\u001b[0m\u001b[0mhead\u001b[0m\u001b[0;34m(\u001b[0m\u001b[0;34m)\u001b[0m\u001b[0;34m\u001b[0m\u001b[0;34m\u001b[0m\u001b[0m\n\u001b[0m",
            "\u001b[0;31mNameError\u001b[0m: name 'test' is not defined"
          ]
        }
      ]
    },
    {
      "cell_type": "code",
      "metadata": {
        "id": "aPFvdfCgN8TI",
        "colab_type": "code",
        "colab": {}
      },
      "source": [
        "X_train = train['Text']\n",
        "y_train = train['Gender']\n",
        "y_train_age = train['Age']\n",
        "X_test = test['Text']\n",
        "y_test = test['Gender']\n",
        "y_test_age = test['Age']"
      ],
      "execution_count": 0,
      "outputs": []
    },
    {
      "cell_type": "markdown",
      "metadata": {
        "id": "gzytVUaCy9id",
        "colab_type": "text"
      },
      "source": [
        "Pipeline для определения пола автора"
      ]
    },
    {
      "cell_type": "code",
      "metadata": {
        "id": "E8poIVUsQ6_q",
        "colab_type": "code",
        "colab": {
          "base_uri": "https://localhost:8080/",
          "height": 612
        },
        "outputId": "437c51da-fd01-448b-da89-f0a603cabe0b"
      },
      "source": [
        "bow_vector = CountVectorizer(tokenizer = spacy_tokenizer, ngram_range=(1,1))\n",
        "tfidf = TfidfTransformer()\n",
        "\n",
        "classifier = LogisticRegression()\n",
        "\n",
        "pipe = Pipeline([(\"cleaner\", TextPreprocessor()),\n",
        "                 ('vectorizer', bow_vector),\n",
        "                 ('tfid', tfidf),\n",
        "                 ('classifier', classifier)], verbose=True)\n",
        "\n",
        "pipe.fit(X_train,y_train)"
      ],
      "execution_count": 50,
      "outputs": [
        {
          "output_type": "stream",
          "text": [
            "[Pipeline] ........... (step 1 of 4) Processing cleaner, total=   1.0s\n",
            "[Pipeline] ........ (step 2 of 4) Processing vectorizer, total=13.4min\n",
            "[Pipeline] .............. (step 3 of 4) Processing tfid, total=   4.6s\n",
            "[Pipeline] ........ (step 4 of 4) Processing classifier, total=  43.7s\n"
          ],
          "name": "stdout"
        },
        {
          "output_type": "stream",
          "text": [
            "/usr/local/lib/python3.6/dist-packages/sklearn/linear_model/_logistic.py:940: ConvergenceWarning: lbfgs failed to converge (status=1):\n",
            "STOP: TOTAL NO. of ITERATIONS REACHED LIMIT.\n",
            "\n",
            "Increase the number of iterations (max_iter) or scale the data as shown in:\n",
            "    https://scikit-learn.org/stable/modules/preprocessing.html\n",
            "Please also refer to the documentation for alternative solver options:\n",
            "    https://scikit-learn.org/stable/modules/linear_model.html#logistic-regression\n",
            "  extra_warning_msg=_LOGISTIC_SOLVER_CONVERGENCE_MSG)\n"
          ],
          "name": "stderr"
        },
        {
          "output_type": "execute_result",
          "data": {
            "text/plain": [
              "Pipeline(memory=None,\n",
              "         steps=[('cleaner',\n",
              "                 <__main__.TextPreprocessor object at 0x7f13a845d828>),\n",
              "                ('vectorizer',\n",
              "                 CountVectorizer(analyzer='word', binary=False,\n",
              "                                 decode_error='strict',\n",
              "                                 dtype=<class 'numpy.int64'>, encoding='utf-8',\n",
              "                                 input='content', lowercase=True, max_df=1.0,\n",
              "                                 max_features=None, min_df=1,\n",
              "                                 ngram_range=(1, 1), preprocessor=None,\n",
              "                                 stop_words=None, strip_accents=...\n",
              "                ('tfid',\n",
              "                 TfidfTransformer(norm='l2', smooth_idf=True,\n",
              "                                  sublinear_tf=False, use_idf=True)),\n",
              "                ('classifier',\n",
              "                 LogisticRegression(C=1.0, class_weight=None, dual=False,\n",
              "                                    fit_intercept=True, intercept_scaling=1,\n",
              "                                    l1_ratio=None, max_iter=100,\n",
              "                                    multi_class='auto', n_jobs=None,\n",
              "                                    penalty='l2', random_state=None,\n",
              "                                    solver='lbfgs', tol=0.0001, verbose=0,\n",
              "                                    warm_start=False))],\n",
              "         verbose=True)"
            ]
          },
          "metadata": {
            "tags": []
          },
          "execution_count": 50
        }
      ]
    },
    {
      "cell_type": "code",
      "metadata": {
        "id": "Gtnj8LRVSBap",
        "colab_type": "code",
        "colab": {
          "base_uri": "https://localhost:8080/",
          "height": 34
        },
        "outputId": "144c1a8f-fd69-499a-cc7d-92ce28242a9c"
      },
      "source": [
        "predicted = pipe.predict(X_test)\n",
        "print(\"Accuracy:\",metrics.accuracy_score(y_test, predicted))"
      ],
      "execution_count": 51,
      "outputs": [
        {
          "output_type": "stream",
          "text": [
            "Accuracy: 0.5232750121749873\n"
          ],
          "name": "stdout"
        }
      ]
    },
    {
      "cell_type": "markdown",
      "metadata": {
        "id": "9YIykEBuzHUO",
        "colab_type": "text"
      },
      "source": [
        "Pipeline для определения возраста автора"
      ]
    },
    {
      "cell_type": "code",
      "metadata": {
        "id": "qAz9JAvonA2h",
        "colab_type": "code",
        "colab": {
          "base_uri": "https://localhost:8080/",
          "height": 612
        },
        "outputId": "939f6e29-f822-4a8e-d68c-32812e96050b"
      },
      "source": [
        "bow_vector = CountVectorizer(tokenizer = spacy_tokenizer, ngram_range=(1,1))\n",
        "tfidf = TfidfTransformer()\n",
        "\n",
        "classifier = LogisticRegression()\n",
        "\n",
        "pipe = Pipeline([(\"cleaner\", TextPreprocessor()),\n",
        "                 ('vectorizer', bow_vector),\n",
        "                 ('tfid', tfidf),\n",
        "                 ('classifier', classifier)], verbose=True)\n",
        "\n",
        "pipe.fit(X_train,y_train_age)"
      ],
      "execution_count": 22,
      "outputs": [
        {
          "output_type": "stream",
          "text": [
            "[Pipeline] ........... (step 1 of 4) Processing cleaner, total=   0.7s\n",
            "[Pipeline] ........ (step 2 of 4) Processing vectorizer, total=12.4min\n",
            "[Pipeline] .............. (step 3 of 4) Processing tfid, total=   4.2s\n",
            "[Pipeline] ........ (step 4 of 4) Processing classifier, total= 2.6min\n"
          ],
          "name": "stdout"
        },
        {
          "output_type": "stream",
          "text": [
            "/usr/local/lib/python3.6/dist-packages/sklearn/linear_model/_logistic.py:940: ConvergenceWarning: lbfgs failed to converge (status=1):\n",
            "STOP: TOTAL NO. of ITERATIONS REACHED LIMIT.\n",
            "\n",
            "Increase the number of iterations (max_iter) or scale the data as shown in:\n",
            "    https://scikit-learn.org/stable/modules/preprocessing.html\n",
            "Please also refer to the documentation for alternative solver options:\n",
            "    https://scikit-learn.org/stable/modules/linear_model.html#logistic-regression\n",
            "  extra_warning_msg=_LOGISTIC_SOLVER_CONVERGENCE_MSG)\n"
          ],
          "name": "stderr"
        },
        {
          "output_type": "execute_result",
          "data": {
            "text/plain": [
              "Pipeline(memory=None,\n",
              "         steps=[('cleaner',\n",
              "                 <__main__.TextPreprocessor object at 0x7fafc8f90c18>),\n",
              "                ('vectorizer',\n",
              "                 CountVectorizer(analyzer='word', binary=False,\n",
              "                                 decode_error='strict',\n",
              "                                 dtype=<class 'numpy.int64'>, encoding='utf-8',\n",
              "                                 input='content', lowercase=True, max_df=1.0,\n",
              "                                 max_features=None, min_df=1,\n",
              "                                 ngram_range=(1, 1), preprocessor=None,\n",
              "                                 stop_words=None, strip_accents=...\n",
              "                ('tfid',\n",
              "                 TfidfTransformer(norm='l2', smooth_idf=True,\n",
              "                                  sublinear_tf=False, use_idf=True)),\n",
              "                ('classifier',\n",
              "                 LogisticRegression(C=1.0, class_weight=None, dual=False,\n",
              "                                    fit_intercept=True, intercept_scaling=1,\n",
              "                                    l1_ratio=None, max_iter=100,\n",
              "                                    multi_class='auto', n_jobs=None,\n",
              "                                    penalty='l2', random_state=None,\n",
              "                                    solver='lbfgs', tol=0.0001, verbose=0,\n",
              "                                    warm_start=False))],\n",
              "         verbose=True)"
            ]
          },
          "metadata": {
            "tags": []
          },
          "execution_count": 22
        }
      ]
    },
    {
      "cell_type": "code",
      "metadata": {
        "id": "tCrno0LJnE5Q",
        "colab_type": "code",
        "colab": {}
      },
      "source": [
        "predicted = pipe.predict(X_test)\n",
        "print(\"Accuracy:\",metrics.accuracy_score(y_test_age, predicted))"
      ],
      "execution_count": 0,
      "outputs": []
    },
    {
      "cell_type": "code",
      "metadata": {
        "id": "bhJXkiYiwk5O",
        "colab_type": "code",
        "colab": {
          "base_uri": "https://localhost:8080/",
          "height": 34
        },
        "outputId": "e8e82676-c19b-466c-8091-16b9b0571024"
      },
      "source": [
        ""
      ],
      "execution_count": 25,
      "outputs": [
        {
          "output_type": "stream",
          "text": [
            "Accuracy: 0.3353882336172184\n"
          ],
          "name": "stdout"
        }
      ]
    },
    {
      "cell_type": "markdown",
      "metadata": {
        "id": "RQUZH3eMzMvk",
        "colab_type": "text"
      },
      "source": [
        "Для задачи определения пола точность - 0.52, определения возраста - 0.33  \n",
        "Если сравнивать с результатами, предсталенными на PAN, то точность неплохая\n",
        "![image.png](data:image/png;base64,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)"
      ]
    },
    {
      "cell_type": "code",
      "metadata": {
        "id": "BFttKO-Yws-0",
        "colab_type": "code",
        "colab": {
          "base_uri": "https://localhost:8080/",
          "height": 425
        },
        "outputId": "86b415b1-4208-4edd-cca2-8a243285d823"
      },
      "source": [
        "bow_vector = CountVectorizer(tokenizer = spacy_tokenizer, ngram_range=(1,1))\n",
        "tfidf = TfidfTransformer()\n",
        "\n",
        "classifier = MultinomialNB()\n",
        "\n",
        "pipe = Pipeline([(\"cleaner\", TextPreprocessor()),\n",
        "                 ('vectorizer', bow_vector),\n",
        "                 ('tfid', tfidf),\n",
        "                 ('classifier', classifier)], verbose=True)\n",
        "\n",
        "pipe.fit(X_train,y_train_age)"
      ],
      "execution_count": 11,
      "outputs": [
        {
          "output_type": "stream",
          "text": [
            "[Pipeline] ........... (step 1 of 4) Processing cleaner, total=   0.9s\n",
            "[Pipeline] ........ (step 2 of 4) Processing vectorizer, total=12.7min\n",
            "[Pipeline] .............. (step 3 of 4) Processing tfid, total=   4.5s\n",
            "[Pipeline] ........ (step 4 of 4) Processing classifier, total=   1.2s\n"
          ],
          "name": "stdout"
        },
        {
          "output_type": "execute_result",
          "data": {
            "text/plain": [
              "Pipeline(memory=None,\n",
              "         steps=[('cleaner',\n",
              "                 <__main__.TextPreprocessor object at 0x7f1ff5c09e48>),\n",
              "                ('vectorizer',\n",
              "                 CountVectorizer(analyzer='word', binary=False,\n",
              "                                 decode_error='strict',\n",
              "                                 dtype=<class 'numpy.int64'>, encoding='utf-8',\n",
              "                                 input='content', lowercase=True, max_df=1.0,\n",
              "                                 max_features=None, min_df=1,\n",
              "                                 ngram_range=(1, 1), preprocessor=None,\n",
              "                                 stop_words=None, strip_accents=None,\n",
              "                                 token_pattern='(?u)\\\\b\\\\w\\\\w+\\\\b',\n",
              "                                 tokenizer=<function spacy_tokenizer at 0x7f1ff4adf378>,\n",
              "                                 vocabulary=None)),\n",
              "                ('tfid',\n",
              "                 TfidfTransformer(norm='l2', smooth_idf=True,\n",
              "                                  sublinear_tf=False, use_idf=True)),\n",
              "                ('classifier',\n",
              "                 MultinomialNB(alpha=1.0, class_prior=None, fit_prior=True))],\n",
              "         verbose=True)"
            ]
          },
          "metadata": {
            "tags": []
          },
          "execution_count": 11
        }
      ]
    },
    {
      "cell_type": "code",
      "metadata": {
        "id": "Bb8ZeND5z703",
        "colab_type": "code",
        "colab": {
          "base_uri": "https://localhost:8080/",
          "height": 34
        },
        "outputId": "fad82f5d-b662-427b-f244-92164fc8e75f"
      },
      "source": [
        "predicted = pipe.predict(X_test)\n",
        "print(\"Accuracy:\",metrics.accuracy_score(y_test_age, predicted))"
      ],
      "execution_count": 12,
      "outputs": [
        {
          "output_type": "stream",
          "text": [
            "Accuracy: 0.3333333333333333\n"
          ],
          "name": "stdout"
        }
      ]
    },
    {
      "cell_type": "code",
      "metadata": {
        "id": "yH4-w1VcDYrc",
        "colab_type": "code",
        "colab": {}
      },
      "source": [
        "!pip install zeugma"
      ],
      "execution_count": 0,
      "outputs": []
    },
    {
      "cell_type": "code",
      "metadata": {
        "id": "ofj8arQiDvHC",
        "colab_type": "code",
        "colab": {
          "base_uri": "https://localhost:8080/",
          "height": 105
        },
        "outputId": "4d9d7d51-65c7-4c3c-fe86-20624fac18b8"
      },
      "source": [
        "from zeugma.embeddings import EmbeddingTransformer\n",
        "glove = EmbeddingTransformer('glove')\n",
        "glove.fit(X_test)"
      ],
      "execution_count": 16,
      "outputs": [
        {
          "output_type": "stream",
          "text": [
            "/usr/local/lib/python3.6/dist-packages/smart_open/smart_open_lib.py:402: UserWarning: This function is deprecated, use smart_open.open instead. See the migration notes for details: https://github.com/RaRe-Technologies/smart_open/blob/master/README.rst#migrating-to-the-new-open-function\n",
            "  'See the migration notes for details: %s' % _MIGRATION_NOTES_URL\n"
          ],
          "name": "stderr"
        },
        {
          "output_type": "execute_result",
          "data": {
            "text/plain": [
              "EmbeddingTransformer(aggregation='average',\n",
              "                     model=<gensim.models.keyedvectors.Word2VecKeyedVectors object at 0x7f1f96713b00>)"
            ]
          },
          "metadata": {
            "tags": []
          },
          "execution_count": 16
        }
      ]
    },
    {
      "cell_type": "code",
      "metadata": {
        "id": "a1LBecjqMuN-",
        "colab_type": "code",
        "colab": {}
      },
      "source": [
        "classifier = LogisticRegression()\n",
        "\n",
        "pipe = Pipeline([(\"cleaner\", TextPreprocessor()),\n",
        "                 ('glove', glove),\n",
        "                 ('classifier', classifier)], verbose=True)\n",
        "\n",
        "pipe.fit(X_train,y_train_age)"
      ],
      "execution_count": 0,
      "outputs": []
    },
    {
      "cell_type": "code",
      "metadata": {
        "id": "Zfr7s5dAGVyt",
        "colab_type": "code",
        "colab": {}
      },
      "source": [
        "predicted = pipe.predict(X_test)\n",
        "print(\"Accuracy:\",metrics.accuracy_score(y_test_age, predicted))"
      ],
      "execution_count": 0,
      "outputs": []
    }
  ]
}